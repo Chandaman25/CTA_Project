{
 "cells": [
  {
   "cell_type": "markdown",
   "metadata": {},
   "source": [
    "# Model Building and Selection"
   ]
  },
  {
   "cell_type": "markdown",
   "metadata": {},
   "source": [
    "## Initial Model Testing"
   ]
  },
  {
   "attachments": {},
   "cell_type": "markdown",
   "metadata": {},
   "source": [
    "### Multiple Linear Regression"
   ]
  },
  {
   "cell_type": "code",
   "execution_count": 11,
   "metadata": {},
   "outputs": [],
   "source": [
    "import pandas as pd\n",
    "import numpy as np\n",
    "from sklearn.linear_model import LinearRegression\n",
    "from sklearn.model_selection import KFold, cross_val_score"
   ]
  },
  {
   "cell_type": "code",
   "execution_count": 12,
   "metadata": {},
   "outputs": [
    {
     "data": {
      "text/html": [
       "<div>\n",
       "<style scoped>\n",
       "    .dataframe tbody tr th:only-of-type {\n",
       "        vertical-align: middle;\n",
       "    }\n",
       "\n",
       "    .dataframe tbody tr th {\n",
       "        vertical-align: top;\n",
       "    }\n",
       "\n",
       "    .dataframe thead th {\n",
       "        text-align: right;\n",
       "    }\n",
       "</style>\n",
       "<table border=\"1\" class=\"dataframe\">\n",
       "  <thead>\n",
       "    <tr style=\"text-align: right;\">\n",
       "      <th></th>\n",
       "      <th>Per_Dependency</th>\n",
       "      <th>Per_No_High_School_Diploma</th>\n",
       "      <th>2020_HH_SIZE</th>\n",
       "      <th>MED_AGE</th>\n",
       "      <th>per_white</th>\n",
       "      <th>per_hisp</th>\n",
       "      <th>per_black</th>\n",
       "      <th>per_asian</th>\n",
       "      <th>per_other</th>\n",
       "      <th>MEDINC</th>\n",
       "      <th>Per_Unemployment</th>\n",
       "      <th>pop_dens_sqmi</th>\n",
       "      <th>stop_dens_sqmi</th>\n",
       "    </tr>\n",
       "  </thead>\n",
       "  <tbody>\n",
       "    <tr>\n",
       "      <th>0</th>\n",
       "      <td>-0.973337</td>\n",
       "      <td>-0.284826</td>\n",
       "      <td>-1.128451</td>\n",
       "      <td>-0.415708</td>\n",
       "      <td>0.625400</td>\n",
       "      <td>-0.273202</td>\n",
       "      <td>-0.257450</td>\n",
       "      <td>-0.095778</td>\n",
       "      <td>1.301235</td>\n",
       "      <td>-0.472793</td>\n",
       "      <td>-0.836434</td>\n",
       "      <td>2.301314</td>\n",
       "      <td>54.891304</td>\n",
       "    </tr>\n",
       "    <tr>\n",
       "      <th>1</th>\n",
       "      <td>0.342008</td>\n",
       "      <td>-0.162622</td>\n",
       "      <td>0.665484</td>\n",
       "      <td>-0.209633</td>\n",
       "      <td>0.540069</td>\n",
       "      <td>-0.245387</td>\n",
       "      <td>-0.659805</td>\n",
       "      <td>1.355876</td>\n",
       "      <td>2.157760</td>\n",
       "      <td>-0.052162</td>\n",
       "      <td>-0.778808</td>\n",
       "      <td>1.165326</td>\n",
       "      <td>55.524079</td>\n",
       "    </tr>\n",
       "    <tr>\n",
       "      <th>2</th>\n",
       "      <td>-1.887156</td>\n",
       "      <td>-0.651440</td>\n",
       "      <td>-1.681458</td>\n",
       "      <td>-0.020191</td>\n",
       "      <td>0.964372</td>\n",
       "      <td>-0.417658</td>\n",
       "      <td>-0.491639</td>\n",
       "      <td>0.365806</td>\n",
       "      <td>0.702641</td>\n",
       "      <td>-0.054291</td>\n",
       "      <td>-0.807621</td>\n",
       "      <td>1.544641</td>\n",
       "      <td>76.724138</td>\n",
       "    </tr>\n",
       "    <tr>\n",
       "      <th>3</th>\n",
       "      <td>-1.416401</td>\n",
       "      <td>-0.741057</td>\n",
       "      <td>-0.903859</td>\n",
       "      <td>-0.314782</td>\n",
       "      <td>1.389411</td>\n",
       "      <td>-0.313668</td>\n",
       "      <td>-0.885502</td>\n",
       "      <td>0.248223</td>\n",
       "      <td>2.268745</td>\n",
       "      <td>0.773854</td>\n",
       "      <td>-0.937281</td>\n",
       "      <td>0.348444</td>\n",
       "      <td>53.125000</td>\n",
       "    </tr>\n",
       "    <tr>\n",
       "      <th>4</th>\n",
       "      <td>-1.430246</td>\n",
       "      <td>-1.319491</td>\n",
       "      <td>-0.368961</td>\n",
       "      <td>-0.489644</td>\n",
       "      <td>1.786946</td>\n",
       "      <td>-0.528408</td>\n",
       "      <td>-0.896730</td>\n",
       "      <td>-0.045377</td>\n",
       "      <td>1.638710</td>\n",
       "      <td>2.667351</td>\n",
       "      <td>-1.268633</td>\n",
       "      <td>0.526030</td>\n",
       "      <td>56.097561</td>\n",
       "    </tr>\n",
       "    <tr>\n",
       "      <th>...</th>\n",
       "      <td>...</td>\n",
       "      <td>...</td>\n",
       "      <td>...</td>\n",
       "      <td>...</td>\n",
       "      <td>...</td>\n",
       "      <td>...</td>\n",
       "      <td>...</td>\n",
       "      <td>...</td>\n",
       "      <td>...</td>\n",
       "      <td>...</td>\n",
       "      <td>...</td>\n",
       "      <td>...</td>\n",
       "      <td>...</td>\n",
       "    </tr>\n",
       "    <tr>\n",
       "      <th>72</th>\n",
       "      <td>0.909683</td>\n",
       "      <td>-0.488501</td>\n",
       "      <td>0.171347</td>\n",
       "      <td>1.200988</td>\n",
       "      <td>-1.001291</td>\n",
       "      <td>-0.912641</td>\n",
       "      <td>1.527001</td>\n",
       "      <td>-0.584380</td>\n",
       "      <td>-0.715020</td>\n",
       "      <td>-0.208887</td>\n",
       "      <td>0.719482</td>\n",
       "      <td>-0.607217</td>\n",
       "      <td>40.209790</td>\n",
       "    </tr>\n",
       "    <tr>\n",
       "      <th>73</th>\n",
       "      <td>0.162013</td>\n",
       "      <td>-1.392814</td>\n",
       "      <td>0.290422</td>\n",
       "      <td>0.293832</td>\n",
       "      <td>2.032084</td>\n",
       "      <td>-0.582486</td>\n",
       "      <td>-0.879028</td>\n",
       "      <td>-0.450924</td>\n",
       "      <td>0.808255</td>\n",
       "      <td>1.380378</td>\n",
       "      <td>-0.922874</td>\n",
       "      <td>-0.863297</td>\n",
       "      <td>30.258303</td>\n",
       "    </tr>\n",
       "    <tr>\n",
       "      <th>74</th>\n",
       "      <td>0.494311</td>\n",
       "      <td>-0.871408</td>\n",
       "      <td>-0.006416</td>\n",
       "      <td>1.507238</td>\n",
       "      <td>0.095332</td>\n",
       "      <td>-0.803684</td>\n",
       "      <td>0.638185</td>\n",
       "      <td>-0.561636</td>\n",
       "      <td>0.680793</td>\n",
       "      <td>0.170859</td>\n",
       "      <td>0.229656</td>\n",
       "      <td>-0.924777</td>\n",
       "      <td>26.666667</td>\n",
       "    </tr>\n",
       "    <tr>\n",
       "      <th>75</th>\n",
       "      <td>-1.291789</td>\n",
       "      <td>-0.863261</td>\n",
       "      <td>-0.720303</td>\n",
       "      <td>0.023925</td>\n",
       "      <td>1.509629</td>\n",
       "      <td>-0.663677</td>\n",
       "      <td>-0.790976</td>\n",
       "      <td>0.846900</td>\n",
       "      <td>-0.117618</td>\n",
       "      <td>0.037901</td>\n",
       "      <td>-1.239820</td>\n",
       "      <td>-1.658277</td>\n",
       "      <td>2.398801</td>\n",
       "    </tr>\n",
       "    <tr>\n",
       "      <th>76</th>\n",
       "      <td>-1.721007</td>\n",
       "      <td>-1.026200</td>\n",
       "      <td>-1.602241</td>\n",
       "      <td>0.101621</td>\n",
       "      <td>0.977710</td>\n",
       "      <td>-0.384876</td>\n",
       "      <td>-0.617559</td>\n",
       "      <td>0.677409</td>\n",
       "      <td>0.856538</td>\n",
       "      <td>-0.039712</td>\n",
       "      <td>-0.620335</td>\n",
       "      <td>2.588719</td>\n",
       "      <td>71.839080</td>\n",
       "    </tr>\n",
       "  </tbody>\n",
       "</table>\n",
       "<p>77 rows × 13 columns</p>\n",
       "</div>"
      ],
      "text/plain": [
       "    Per_Dependency  Per_No_High_School_Diploma  2020_HH_SIZE   MED_AGE  \\\n",
       "0        -0.973337                   -0.284826     -1.128451 -0.415708   \n",
       "1         0.342008                   -0.162622      0.665484 -0.209633   \n",
       "2        -1.887156                   -0.651440     -1.681458 -0.020191   \n",
       "3        -1.416401                   -0.741057     -0.903859 -0.314782   \n",
       "4        -1.430246                   -1.319491     -0.368961 -0.489644   \n",
       "..             ...                         ...           ...       ...   \n",
       "72        0.909683                   -0.488501      0.171347  1.200988   \n",
       "73        0.162013                   -1.392814      0.290422  0.293832   \n",
       "74        0.494311                   -0.871408     -0.006416  1.507238   \n",
       "75       -1.291789                   -0.863261     -0.720303  0.023925   \n",
       "76       -1.721007                   -1.026200     -1.602241  0.101621   \n",
       "\n",
       "    per_white  per_hisp  per_black  per_asian  per_other    MEDINC  \\\n",
       "0    0.625400 -0.273202  -0.257450  -0.095778   1.301235 -0.472793   \n",
       "1    0.540069 -0.245387  -0.659805   1.355876   2.157760 -0.052162   \n",
       "2    0.964372 -0.417658  -0.491639   0.365806   0.702641 -0.054291   \n",
       "3    1.389411 -0.313668  -0.885502   0.248223   2.268745  0.773854   \n",
       "4    1.786946 -0.528408  -0.896730  -0.045377   1.638710  2.667351   \n",
       "..        ...       ...        ...        ...        ...       ...   \n",
       "72  -1.001291 -0.912641   1.527001  -0.584380  -0.715020 -0.208887   \n",
       "73   2.032084 -0.582486  -0.879028  -0.450924   0.808255  1.380378   \n",
       "74   0.095332 -0.803684   0.638185  -0.561636   0.680793  0.170859   \n",
       "75   1.509629 -0.663677  -0.790976   0.846900  -0.117618  0.037901   \n",
       "76   0.977710 -0.384876  -0.617559   0.677409   0.856538 -0.039712   \n",
       "\n",
       "    Per_Unemployment  pop_dens_sqmi  stop_dens_sqmi  \n",
       "0          -0.836434       2.301314       54.891304  \n",
       "1          -0.778808       1.165326       55.524079  \n",
       "2          -0.807621       1.544641       76.724138  \n",
       "3          -0.937281       0.348444       53.125000  \n",
       "4          -1.268633       0.526030       56.097561  \n",
       "..               ...            ...             ...  \n",
       "72          0.719482      -0.607217       40.209790  \n",
       "73         -0.922874      -0.863297       30.258303  \n",
       "74          0.229656      -0.924777       26.666667  \n",
       "75         -1.239820      -1.658277        2.398801  \n",
       "76         -0.620335       2.588719       71.839080  \n",
       "\n",
       "[77 rows x 13 columns]"
      ]
     },
     "execution_count": 12,
     "metadata": {},
     "output_type": "execute_result"
    }
   ],
   "source": [
    "# Load the data into a dataframe\n",
    "df = pd.read_csv('../Data/scaled_data.csv')\n",
    "df\n"
   ]
  },
  {
   "cell_type": "code",
   "execution_count": 13,
   "metadata": {},
   "outputs": [],
   "source": [
    "# Separate the target variable from the features\n",
    "X = df.drop(['stop_dens_sqmi'], axis=1)\n",
    "y = df['stop_dens_sqmi']\n"
   ]
  },
  {
   "cell_type": "code",
   "execution_count": 5,
   "metadata": {},
   "outputs": [],
   "source": [
    "# Create a linear regression model\n",
    "lr = LinearRegression()"
   ]
  },
  {
   "cell_type": "code",
   "execution_count": 14,
   "metadata": {},
   "outputs": [],
   "source": [
    "# Define the number of folds for cross-validation\n",
    "k = 10\n",
    "\n",
    "# Define the cross-validation object\n",
    "kf = KFold(n_splits=k, shuffle=True, random_state=42)"
   ]
  },
  {
   "cell_type": "code",
   "execution_count": 15,
   "metadata": {},
   "outputs": [
    {
     "name": "stdout",
     "output_type": "stream",
     "text": [
      "Linear Regression RMSE scores: [23.64200969 14.12921702  9.1837876  14.83365748 11.07368117 22.717883\n",
      " 16.30833141  8.56154216 14.23633576  9.07325462]\n",
      "Linear Regression mean RMSE: 14.375969991334767\n"
     ]
    }
   ],
   "source": [
    "# Evaluate the linear regression model with cross-validation\n",
    "lr_scores = cross_val_score(lr, X, y, cv=kf, scoring='neg_mean_squared_error')\n",
    "lr_rmse_scores = np.sqrt(-lr_scores)\n",
    "print('Linear Regression RMSE scores:', lr_rmse_scores)\n",
    "print('Linear Regression mean RMSE:', lr_rmse_scores.mean())\n"
   ]
  },
  {
   "cell_type": "code",
   "execution_count": 16,
   "metadata": {},
   "outputs": [
    {
     "data": {
      "text/plain": [
       "LinearRegression()"
      ]
     },
     "execution_count": 16,
     "metadata": {},
     "output_type": "execute_result"
    }
   ],
   "source": [
    "# Fit the linear regression model to the data\n",
    "lr.fit(X, y)"
   ]
  },
  {
   "cell_type": "code",
   "execution_count": 17,
   "metadata": {},
   "outputs": [],
   "source": [
    "# Create a dataframe of the feature coefficients and p-values\n",
    "coef_df = pd.DataFrame({'feature': X.columns, 'coefficient': lr.coef_, 'p_value': None})"
   ]
  },
  {
   "cell_type": "code",
   "execution_count": 18,
   "metadata": {},
   "outputs": [],
   "source": [
    "# Calculate the p-values for each feature\n",
    "for i in range(X.shape[1]):\n",
    "    X_i = X.iloc[:, i]\n",
    "    lr_i = LinearRegression().fit(X_i.values.reshape(-1, 1), y)\n",
    "    coef_df.at[i, 'p_value'] = lr_i.score(X_i.values.reshape(-1, 1), y)"
   ]
  },
  {
   "cell_type": "code",
   "execution_count": 19,
   "metadata": {},
   "outputs": [],
   "source": [
    "# Sort the features by their absolute coefficient values\n",
    "coef_df['abs_coefficient'] = np.abs(coef_df['coefficient'])\n",
    "coef_df = coef_df.sort_values('abs_coefficient', ascending=False).reset_index(drop=True)"
   ]
  },
  {
   "cell_type": "code",
   "execution_count": 20,
   "metadata": {},
   "outputs": [
    {
     "name": "stdout",
     "output_type": "stream",
     "text": [
      "                       feature   coefficient   p_value  abs_coefficient\n",
      "0                    per_black  15414.181059  0.001001     15414.181059\n",
      "1                     per_hisp  10988.955403  0.034427     10988.955403\n",
      "2                    per_white  10525.134470  0.000549     10525.134470\n",
      "3                    per_asian   4322.402165  0.065259      4322.402165\n",
      "4                    per_other    615.790111  0.107722       615.790111\n",
      "5                pop_dens_sqmi     11.392755  0.452378        11.392755\n",
      "6             Per_Unemployment      5.882123  0.000039         5.882123\n",
      "7                 2020_HH_SIZE     -5.084339  0.204118         5.084339\n",
      "8                       MEDINC      4.626605   0.00025         4.626605\n",
      "9   Per_No_High_School_Diploma      2.722974  0.003815         2.722974\n",
      "10              Per_Dependency     -2.149196  0.232548         2.149196\n",
      "11                     MED_AGE     -1.288713  0.050786         1.288713\n"
     ]
    }
   ],
   "source": [
    "# Print the feature importance table\n",
    "print(coef_df)"
   ]
  },
  {
   "cell_type": "code",
   "execution_count": 22,
   "metadata": {},
   "outputs": [
    {
     "data": {
      "text/html": [
       "<div>\n",
       "<style scoped>\n",
       "    .dataframe tbody tr th:only-of-type {\n",
       "        vertical-align: middle;\n",
       "    }\n",
       "\n",
       "    .dataframe tbody tr th {\n",
       "        vertical-align: top;\n",
       "    }\n",
       "\n",
       "    .dataframe thead th {\n",
       "        text-align: right;\n",
       "    }\n",
       "</style>\n",
       "<table border=\"1\" class=\"dataframe\">\n",
       "  <thead>\n",
       "    <tr style=\"text-align: right;\">\n",
       "      <th></th>\n",
       "      <th>Per_No_High_School_Diploma</th>\n",
       "      <th>per_hisp</th>\n",
       "      <th>per_black</th>\n",
       "      <th>MEDINC</th>\n",
       "      <th>Per_Unemployment</th>\n",
       "      <th>stop_dens_sqmi</th>\n",
       "    </tr>\n",
       "  </thead>\n",
       "  <tbody>\n",
       "    <tr>\n",
       "      <th>0</th>\n",
       "      <td>-0.284826</td>\n",
       "      <td>-0.273202</td>\n",
       "      <td>-0.257450</td>\n",
       "      <td>-0.472793</td>\n",
       "      <td>-0.836434</td>\n",
       "      <td>54.891304</td>\n",
       "    </tr>\n",
       "    <tr>\n",
       "      <th>1</th>\n",
       "      <td>-0.162622</td>\n",
       "      <td>-0.245387</td>\n",
       "      <td>-0.659805</td>\n",
       "      <td>-0.052162</td>\n",
       "      <td>-0.778808</td>\n",
       "      <td>55.524079</td>\n",
       "    </tr>\n",
       "    <tr>\n",
       "      <th>2</th>\n",
       "      <td>-0.651440</td>\n",
       "      <td>-0.417658</td>\n",
       "      <td>-0.491639</td>\n",
       "      <td>-0.054291</td>\n",
       "      <td>-0.807621</td>\n",
       "      <td>76.724138</td>\n",
       "    </tr>\n",
       "    <tr>\n",
       "      <th>3</th>\n",
       "      <td>-0.741057</td>\n",
       "      <td>-0.313668</td>\n",
       "      <td>-0.885502</td>\n",
       "      <td>0.773854</td>\n",
       "      <td>-0.937281</td>\n",
       "      <td>53.125000</td>\n",
       "    </tr>\n",
       "    <tr>\n",
       "      <th>4</th>\n",
       "      <td>-1.319491</td>\n",
       "      <td>-0.528408</td>\n",
       "      <td>-0.896730</td>\n",
       "      <td>2.667351</td>\n",
       "      <td>-1.268633</td>\n",
       "      <td>56.097561</td>\n",
       "    </tr>\n",
       "  </tbody>\n",
       "</table>\n",
       "</div>"
      ],
      "text/plain": [
       "   Per_No_High_School_Diploma  per_hisp  per_black    MEDINC  \\\n",
       "0                   -0.284826 -0.273202  -0.257450 -0.472793   \n",
       "1                   -0.162622 -0.245387  -0.659805 -0.052162   \n",
       "2                   -0.651440 -0.417658  -0.491639 -0.054291   \n",
       "3                   -0.741057 -0.313668  -0.885502  0.773854   \n",
       "4                   -1.319491 -0.528408  -0.896730  2.667351   \n",
       "\n",
       "   Per_Unemployment  stop_dens_sqmi  \n",
       "0         -0.836434       54.891304  \n",
       "1         -0.778808       55.524079  \n",
       "2         -0.807621       76.724138  \n",
       "3         -0.937281       53.125000  \n",
       "4         -1.268633       56.097561  "
      ]
     },
     "execution_count": 22,
     "metadata": {},
     "output_type": "execute_result"
    }
   ],
   "source": [
    "lr_sig_df = df.drop(columns=['pop_dens_sqmi', '2020_HH_SIZE', 'per_asian','per_white',\n",
    "                          'Per_Dependency', 'MED_AGE', 'per_other'])\n",
    "lr_sig_df.head()"
   ]
  },
  {
   "cell_type": "code",
   "execution_count": 23,
   "metadata": {},
   "outputs": [],
   "source": [
    "lr_sig_df.to_csv('lr_sig_df.csv')"
   ]
  },
  {
   "attachments": {},
   "cell_type": "markdown",
   "metadata": {},
   "source": [
    "## Decision Tree"
   ]
  },
  {
   "cell_type": "code",
   "execution_count": 24,
   "metadata": {},
   "outputs": [],
   "source": [
    "from sklearn.tree import DecisionTreeRegressor"
   ]
  },
  {
   "cell_type": "code",
   "execution_count": 25,
   "metadata": {},
   "outputs": [],
   "source": [
    "# Create a decision tree regression model\n",
    "dt = DecisionTreeRegressor()"
   ]
  },
  {
   "cell_type": "code",
   "execution_count": 26,
   "metadata": {},
   "outputs": [],
   "source": [
    "# Define the number of folds for cross-validation\n",
    "k = 10\n",
    "\n",
    "# Define the cross-validation object\n",
    "kf = KFold(n_splits=k, shuffle=True, random_state=42)"
   ]
  },
  {
   "cell_type": "code",
   "execution_count": 27,
   "metadata": {},
   "outputs": [
    {
     "name": "stdout",
     "output_type": "stream",
     "text": [
      "Decision Tree Regression RMSE scores: [23.60575441  9.69666257 11.98896312 18.32075808  8.42960759 20.7555716\n",
      " 10.58790473 12.54324652 16.84810318 15.04001689]\n",
      "Decision Tree Regression mean RMSE: 14.781658868436049\n"
     ]
    }
   ],
   "source": [
    "dt_scores = cross_val_score(dt, X, y, cv=kf, scoring='neg_mean_squared_error')\n",
    "dt_rmse_scores = np.sqrt(-dt_scores)\n",
    "print('Decision Tree Regression RMSE scores:', dt_rmse_scores)\n",
    "print('Decision Tree Regression mean RMSE:', dt_rmse_scores.mean())"
   ]
  },
  {
   "cell_type": "code",
   "execution_count": 28,
   "metadata": {},
   "outputs": [
    {
     "data": {
      "text/plain": [
       "DecisionTreeRegressor()"
      ]
     },
     "execution_count": 28,
     "metadata": {},
     "output_type": "execute_result"
    }
   ],
   "source": [
    "# Fit the decision tree regression model to the data\n",
    "dt.fit(X, y)"
   ]
  },
  {
   "cell_type": "code",
   "execution_count": 29,
   "metadata": {},
   "outputs": [],
   "source": [
    "# Create a dataframe of the feature importances\n",
    "importance_df = pd.DataFrame({'feature': X.columns, 'importance': dt.feature_importances_})\n",
    "\n",
    "# Sort the features by their importance values\n",
    "importance_df = importance_df.sort_values('importance', ascending=False).reset_index(drop=True)\n"
   ]
  },
  {
   "cell_type": "code",
   "execution_count": 30,
   "metadata": {},
   "outputs": [
    {
     "name": "stdout",
     "output_type": "stream",
     "text": [
      "                       feature  importance\n",
      "0                pop_dens_sqmi    0.422509\n",
      "1                 2020_HH_SIZE    0.232698\n",
      "2             Per_Unemployment    0.089076\n",
      "3                    per_black    0.083396\n",
      "4                      MED_AGE    0.049375\n",
      "5                    per_other    0.038521\n",
      "6                       MEDINC    0.037896\n",
      "7                    per_asian    0.018061\n",
      "8                     per_hisp    0.015728\n",
      "9   Per_No_High_School_Diploma    0.009434\n",
      "10              Per_Dependency    0.002257\n",
      "11                   per_white    0.001049\n"
     ]
    }
   ],
   "source": [
    "# Print the feature importance table\n",
    "print(importance_df)"
   ]
  },
  {
   "cell_type": "code",
   "execution_count": 31,
   "metadata": {},
   "outputs": [
    {
     "data": {
      "image/png": "[encoded data removed]",
      "text/plain": [
       "<Figure size 720x576 with 1 Axes>"
      ]
     },
     "metadata": {
      "needs_background": "light"
     },
     "output_type": "display_data"
    }
   ],
   "source": [
    "import matplotlib.pyplot as plt\n",
    "import seaborn as sns\n",
    "\n",
    "# Fit the decision tree model\n",
    "dt_model = DecisionTreeRegressor(max_depth=5, random_state=42)\n",
    "dt_model.fit(X, y)\n",
    "\n",
    "# Extract feature importances\n",
    "feature_importances = dt_model.feature_importances_\n",
    "\n",
    "# Create a dataframe to store feature importances\n",
    "feature_importance_df = pd.DataFrame({'feature': X.columns, 'importance': feature_importances})\n",
    "\n",
    "# Sort the dataframe by feature importance\n",
    "feature_importance_df = feature_importance_df.sort_values('importance', ascending=False)\n",
    "\n",
    "# Plot the feature importances\n",
    "plt.figure(figsize=(10, 8))\n",
    "sns.barplot(x='importance', y='feature', data=feature_importance_df)\n",
    "plt.title('Decision Tree Feature Importances')\n",
    "plt.xlabel('Importance')\n",
    "plt.ylabel('Feature')\n",
    "plt.show()"
   ]
  },
  {
   "cell_type": "code",
   "execution_count": 33,
   "metadata": {},
   "outputs": [
    {
     "data": {
      "text/html": [
       "<div>\n",
       "<style scoped>\n",
       "    .dataframe tbody tr th:only-of-type {\n",
       "        vertical-align: middle;\n",
       "    }\n",
       "\n",
       "    .dataframe tbody tr th {\n",
       "        vertical-align: top;\n",
       "    }\n",
       "\n",
       "    .dataframe thead th {\n",
       "        text-align: right;\n",
       "    }\n",
       "</style>\n",
       "<table border=\"1\" class=\"dataframe\">\n",
       "  <thead>\n",
       "    <tr style=\"text-align: right;\">\n",
       "      <th></th>\n",
       "      <th>pop_dens_sqmi</th>\n",
       "      <th>2020_HH_SIZE</th>\n",
       "      <th>Per_Unemployment</th>\n",
       "      <th>MEDINC</th>\n",
       "      <th>per_other</th>\n",
       "      <th>stop_dens_sqmi</th>\n",
       "    </tr>\n",
       "  </thead>\n",
       "  <tbody>\n",
       "    <tr>\n",
       "      <th>0</th>\n",
       "      <td>2.301314</td>\n",
       "      <td>-1.128451</td>\n",
       "      <td>-0.836434</td>\n",
       "      <td>-0.472793</td>\n",
       "      <td>1.301235</td>\n",
       "      <td>54.891304</td>\n",
       "    </tr>\n",
       "    <tr>\n",
       "      <th>1</th>\n",
       "      <td>1.165326</td>\n",
       "      <td>0.665484</td>\n",
       "      <td>-0.778808</td>\n",
       "      <td>-0.052162</td>\n",
       "      <td>2.157760</td>\n",
       "      <td>55.524079</td>\n",
       "    </tr>\n",
       "    <tr>\n",
       "      <th>2</th>\n",
       "      <td>1.544641</td>\n",
       "      <td>-1.681458</td>\n",
       "      <td>-0.807621</td>\n",
       "      <td>-0.054291</td>\n",
       "      <td>0.702641</td>\n",
       "      <td>76.724138</td>\n",
       "    </tr>\n",
       "    <tr>\n",
       "      <th>3</th>\n",
       "      <td>0.348444</td>\n",
       "      <td>-0.903859</td>\n",
       "      <td>-0.937281</td>\n",
       "      <td>0.773854</td>\n",
       "      <td>2.268745</td>\n",
       "      <td>53.125000</td>\n",
       "    </tr>\n",
       "    <tr>\n",
       "      <th>4</th>\n",
       "      <td>0.526030</td>\n",
       "      <td>-0.368961</td>\n",
       "      <td>-1.268633</td>\n",
       "      <td>2.667351</td>\n",
       "      <td>1.638710</td>\n",
       "      <td>56.097561</td>\n",
       "    </tr>\n",
       "  </tbody>\n",
       "</table>\n",
       "</div>"
      ],
      "text/plain": [
       "   pop_dens_sqmi  2020_HH_SIZE  Per_Unemployment    MEDINC  per_other  \\\n",
       "0       2.301314     -1.128451         -0.836434 -0.472793   1.301235   \n",
       "1       1.165326      0.665484         -0.778808 -0.052162   2.157760   \n",
       "2       1.544641     -1.681458         -0.807621 -0.054291   0.702641   \n",
       "3       0.348444     -0.903859         -0.937281  0.773854   2.268745   \n",
       "4       0.526030     -0.368961         -1.268633  2.667351   1.638710   \n",
       "\n",
       "   stop_dens_sqmi  \n",
       "0       54.891304  \n",
       "1       55.524079  \n",
       "2       76.724138  \n",
       "3       53.125000  \n",
       "4       56.097561  "
      ]
     },
     "execution_count": 33,
     "metadata": {},
     "output_type": "execute_result"
    }
   ],
   "source": [
    "dt_imp = df.loc[:, ['pop_dens_sqmi', '2020_HH_SIZE', 'Per_Unemployment', 'MEDINC', 'per_other', 'stop_dens_sqmi']]\n",
    "dt_imp.head()"
   ]
  },
  {
   "cell_type": "code",
   "execution_count": 34,
   "metadata": {},
   "outputs": [],
   "source": [
    "dt_imp.to_csv('dt_imp.csv')"
   ]
  },
  {
   "cell_type": "code",
   "execution_count": null,
   "metadata": {},
   "outputs": [],
   "source": []
  }
 ],
 "metadata": {
  "kernelspec": {
   "display_name": "Python 3",
   "language": "python",
   "name": "python3"
  },
  "language_info": {
   "codemirror_mode": {
    "name": "ipython",
    "version": 3
   },
   "file_extension": ".py",
   "mimetype": "text/x-python",
   "name": "python",
   "nbconvert_exporter": "python",
   "pygments_lexer": "ipython3",
   "version": "3.9.7"
  },
  "orig_nbformat": 4,
  "vscode": {
   "interpreter": {
    "hash": "a8ec52cef764690df007346642f53ba4dad8a14b151086199612e96cce50d1c6"
   }
  }
 },
 "nbformat": 4,
 "nbformat_minor": 2
}
